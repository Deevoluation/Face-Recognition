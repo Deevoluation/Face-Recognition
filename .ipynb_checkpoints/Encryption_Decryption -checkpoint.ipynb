{
 "cells": [
  {
   "cell_type": "code",
   "execution_count": 1,
   "metadata": {
    "collapsed": true
   },
   "outputs": [],
   "source": [
    "import os\n",
    "from Crypto.Cipher import AES\n",
    "from Crypto.Hash import SHA256\n",
    "from Crypto import Random"
   ]
  },
  {
   "cell_type": "code",
   "execution_count": 2,
   "metadata": {
    "collapsed": true
   },
   "outputs": [],
   "source": [
    "def encrypt(key, filename):\n",
    "    chunksize = 64 * 1024\n",
    "    outputFile = \"(encrypted)\" + filename\n",
    "    filesize = str(os.path.getsize(filename)).zfill(16)\n",
    "    IV = Random.new().read(16)\n",
    "\n",
    "    encryptor = AES.new(key, AES.MODE_CBC, IV)\n",
    "\n",
    "    with open(filename, 'rb') as infile:\n",
    "        with open(outputFile, 'wb') as outfile:\n",
    "            outfile.write(filesize.encode('utf-8'))\n",
    "            outfile.write(IV)\n",
    "\n",
    "            while True:\n",
    "                chunk = infile.read(chunksize)\n",
    "\n",
    "                if len(chunk) == 0:\n",
    "                    break\n",
    "                elif len(chunk) % 16 != 0:\n",
    "                    chunk += b' ' * (16 - (len(chunk) % 16))\n",
    "\n",
    "                outfile.write(encryptor.encrypt(chunk))\n"
   ]
  },
  {
   "cell_type": "code",
   "execution_count": 3,
   "metadata": {
    "collapsed": true
   },
   "outputs": [],
   "source": [
    "\n",
    "def decrypt(key, filename):\n",
    "    chunksize = 64 * 1024\n",
    "    outputFile = \"(decrypted)\" + filename[11:]\n",
    "\n",
    "    with open(filename, 'rb') as infile:\n",
    "        filesize = int(infile.read(16))\n",
    "        IV = infile.read(16)\n",
    "\n",
    "        decryptor = AES.new(key, AES.MODE_CBC, IV)\n",
    "\n",
    "        with open(outputFile, 'wb') as outfile:\n",
    "            while True:\n",
    "                chunk = infile.read(chunksize)\n",
    "\n",
    "                if len(chunk) == 0:\n",
    "                    break\n",
    "\n",
    "                outfile.write(decryptor.decrypt(chunk))\n",
    "            outfile.truncate(filesize)"
   ]
  },
  {
   "cell_type": "code",
   "execution_count": 4,
   "metadata": {
    "collapsed": true
   },
   "outputs": [],
   "source": [
    "def getKey(password):\n",
    "    hasher = SHA256.new(password.encode('utf-8'))\n",
    "    return hasher.digest()"
   ]
  },
  {
   "cell_type": "code",
   "execution_count": 8,
   "metadata": {},
   "outputs": [
    {
     "name": "stdout",
     "output_type": "stream",
     "text": [
      "Would you like to (E)ncrypt or (D)ecrypt?: d\n",
      "File to decrypt: (encrypted)test.jpg\n",
      "Password: 12345\n",
      "Done\n",
      "(encrypted)test.jpg ==> (encrypted)test\n"
     ]
    }
   ],
   "source": [
    "def Main():\n",
    "    choice = input(\"Would you like to (E)ncrypt or (D)ecrypt?: \")\n",
    "    if choice == 'E' or choice == 'e':\n",
    "        filename = input(\"File to encrypt: \")\n",
    "        password = input(\"Password: \")\n",
    "        encrypt(getKey(password), filename)\n",
    "        print (\"Done!\\n%s ==> %s\" % (filename, filename+\".enc\"))\n",
    "    elif choice == 'D' or choice == 'd':\n",
    "        filename = input(\"File to decrypt: \")\n",
    "        password = input(\"Password: \")\n",
    "        decrypt(getKey(password), filename)\n",
    "        print (\"Done\\n%s ==> %s\"%(filename, filename[:-4]))\n",
    "    else:\n",
    "        print(\"No Option selected, closing...\")\n",
    "\n",
    "\n",
    "if __name__ == '__main__':\n",
    "    Main()"
   ]
  }
 ],
 "metadata": {
  "kernelspec": {
   "display_name": "Python [default]",
   "language": "python",
   "name": "python3"
  },
  "language_info": {
   "codemirror_mode": {
    "name": "ipython",
    "version": 3
   },
   "file_extension": ".py",
   "mimetype": "text/x-python",
   "name": "python",
   "nbconvert_exporter": "python",
   "pygments_lexer": "ipython3",
   "version": "3.6.3"
  }
 },
 "nbformat": 4,
 "nbformat_minor": 2
}
